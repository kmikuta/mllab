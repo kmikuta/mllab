{
 "cells": [
  {
   "cell_type": "markdown",
   "id": "62482dee-42a3-4dae-a363-1dc0472f16a5",
   "metadata": {},
   "source": [
    "# Assistante LLM model notebook"
   ]
  },
  {
   "cell_type": "markdown",
   "id": "a4ae6cf8-7928-4c43-a16f-6fc7c7cb61d7",
   "metadata": {},
   "source": [
    "### Import and istantiate model"
   ]
  },
  {
   "cell_type": "code",
   "execution_count": 7,
   "id": "453deb2d-f536-4186-b100-e10a1b5149c5",
   "metadata": {},
   "outputs": [],
   "source": [
    "from mllab.llm.francais.model import Assistante\n",
    "from mllab.llm.francais.model import Tense\n",
    "\n",
    "model = Assistante()"
   ]
  },
  {
   "cell_type": "markdown",
   "id": "77859ef1-12bf-4c1b-a09b-4c8acd63d0e2",
   "metadata": {},
   "source": [
    "### Verb details and conjugation"
   ]
  },
  {
   "cell_type": "code",
   "execution_count": 18,
   "id": "c5e56433-fcfb-4d34-8246-18b20443c995",
   "metadata": {},
   "outputs": [
    {
     "name": "stdout",
     "output_type": "stream",
     "text": [
      "aller [a.le], verb\n",
      "\n",
      "* je vais [ʒə vɛ]\n",
      "* tu vas [ty va]\n",
      "* il/elle/on va [il/ɛl/ɔ̃ va]\n",
      "* nous allons [nu.z‿a.lõ]\n",
      "* vous allez [vu.z‿a.le]\n",
      "* ils/elles vont [il.z‿vɔ̃]\n",
      "\n",
      "* je suis allé(e) [ʒɥi.z‿a.le]\n",
      "* tu es allé(e) [ty.z‿a.le]\n",
      "* il/elle/on est allé(e) [il/ɛl/ɔ̃.z‿a.le]\n",
      "* nous sommes allés(es) [nu sɔm a.le]\n",
      "* vous êtes allés(es) [vu.z‿ɛt a.le]\n",
      "* ils/elles sont allés(es) [il.z‿sɔ̃t a.le]\n",
      "\n",
      "* j'allais [ʒa.lɛ]\n",
      "* tu allais [ty a.lɛ]\n",
      "* il/elle/on allait [il/ɛl/ɔ̃ a.lɛ]\n",
      "* nous allions [nu.z‿a.ljɔ̃]\n",
      "* vous alliez [vu.z‿a.lje]\n",
      "* ils/elles allaient [il.z‿a.lɛ]\n",
      "\n",
      "* je vais aller [ʒə vɛ a.le]\n",
      "* tu vas aller [ty va a.le]\n",
      "* il/elle/on va aller [il/ɛl/ɔ̃ va a.le]\n",
      "* nous allons aller [nu.z‿a.lõ a.le]\n",
      "* vous allez aller [vu.z‿a.le a.le]\n",
      "* ils/elles vont aller [il.z‿vɔ̃ a.le]\n",
      "\n"
     ]
    }
   ],
   "source": [
    "verb = \"go\"\n",
    "tenses = [Tense.PRESENT, Tense.PASSE_COMPOSE, Tense.IMPARFAIT, Tense.FUTUR_PROCHE]\n",
    "\n",
    "response = model.get_word_details(verb)\n",
    "print(response.text)\n",
    "\n",
    "for tense in tenses:\n",
    "    response = model.get_conjugation(verb, tense)\n",
    "    print(response.text)"
   ]
  },
  {
   "cell_type": "markdown",
   "id": "e57f3954-b3bd-435f-b9f3-bfdc7850684e",
   "metadata": {},
   "source": [
    "### Noun details"
   ]
  },
  {
   "cell_type": "code",
   "execution_count": 13,
   "id": "a20d0f74-cae2-460b-b753-caa76e27f4c1",
   "metadata": {},
   "outputs": [
    {
     "name": "stdout",
     "output_type": "stream",
     "text": [
      "bière [bjɛːr], noun, feminine\n",
      "\n"
     ]
    }
   ],
   "source": [
    "noun = \"beer\"\n",
    "\n",
    "response = model.get_word_details(noun)\n",
    "print(response.text)"
   ]
  },
  {
   "cell_type": "markdown",
   "id": "5c800f5f-744e-4d7a-9e0b-f20958e26f8e",
   "metadata": {},
   "source": [
    "### Number details"
   ]
  },
  {
   "cell_type": "code",
   "execution_count": 15,
   "id": "b5b4f06e-da88-4f88-9e29-84819027c5b6",
   "metadata": {},
   "outputs": [
    {
     "name": "stdout",
     "output_type": "stream",
     "text": [
      "quatre-vingt-douze [katʁəvɛ̃duːz], number.  quatre-vingt-douzième [katʁəvɛ̃du.zjɛːm]\n",
      "\n"
     ]
    }
   ],
   "source": [
    "number = \"ninety-two\"\n",
    "\n",
    "response = model.get_word_details(number)\n",
    "print(response.text)"
   ]
  }
 ],
 "metadata": {
  "kernelspec": {
   "display_name": "Python 3 (ipykernel)",
   "language": "python",
   "name": "python3"
  },
  "language_info": {
   "codemirror_mode": {
    "name": "ipython",
    "version": 3
   },
   "file_extension": ".py",
   "mimetype": "text/x-python",
   "name": "python",
   "nbconvert_exporter": "python",
   "pygments_lexer": "ipython3",
   "version": "3.12.3"
  }
 },
 "nbformat": 4,
 "nbformat_minor": 5
}
