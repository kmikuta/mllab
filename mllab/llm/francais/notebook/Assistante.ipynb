{
 "cells": [
  {
   "cell_type": "markdown",
   "id": "62482dee-42a3-4dae-a363-1dc0472f16a5",
   "metadata": {},
   "source": [
    "# Assistante LLM model notebook"
   ]
  },
  {
   "cell_type": "markdown",
   "id": "a4ae6cf8-7928-4c43-a16f-6fc7c7cb61d7",
   "metadata": {},
   "source": [
    "### Import and istantiate model"
   ]
  },
  {
   "cell_type": "code",
   "execution_count": 5,
   "id": "453deb2d-f536-4186-b100-e10a1b5149c5",
   "metadata": {
    "editable": true,
    "slideshow": {
     "slide_type": ""
    },
    "tags": []
   },
   "outputs": [],
   "source": [
    "from mllab.llm.francais.model import Assistante\n",
    "from mllab.llm.francais.model import Tense\n",
    "\n",
    "model = Assistante()"
   ]
  },
  {
   "cell_type": "markdown",
   "id": "77859ef1-12bf-4c1b-a09b-4c8acd63d0e2",
   "metadata": {},
   "source": [
    "### Verb details and conjugation"
   ]
  },
  {
   "cell_type": "code",
   "execution_count": 6,
   "id": "c5e56433-fcfb-4d34-8246-18b20443c995",
   "metadata": {
    "editable": true,
    "slideshow": {
     "slide_type": ""
    },
    "tags": []
   },
   "outputs": [
    {
     "name": "stdout",
     "output_type": "stream",
     "text": [
      "{\n",
      "  \"gender\": \"n/a\",\n",
      "  \"transcription\": \"ale\",\n",
      "  \"type\": \"verb\",\n",
      "  \"word\": \"aller\"\n",
      "}\n",
      "{\n",
      "  \"conjugation\": [\n",
      "    \"Je vais\",\n",
      "    \"Tu vas\",\n",
      "    \"Il/Elle/On va\",\n",
      "    \"Nous allons\",\n",
      "    \"Vous allez\",\n",
      "    \"Ils/Elles vont\"\n",
      "  ],\n",
      "  \"tense\": \"PRESENT\"\n",
      "}\n",
      "{\n",
      "  \"conjugation\": [\n",
      "    \"j'ai été\",\n",
      "    \"tu as été\",\n",
      "    \"il/elle/on a été\",\n",
      "    \"nous avons été\",\n",
      "    \"vous avez été\",\n",
      "    \"ils/elles ont été\"\n",
      "  ],\n",
      "  \"tense\": \"PASSE_COMPOSE\"\n",
      "}\n",
      "{\n",
      "  \"conjugation\": [\n",
      "    \"Je allais\",\n",
      "    \"Tu allais\",\n",
      "    \"Il/Elle/On allait\",\n",
      "    \"Nous allions\",\n",
      "    \"Vous alliez\",\n",
      "    \"Ils/Elles allaient\"\n",
      "  ],\n",
      "  \"tense\": \"IMPARFAIT\"\n",
      "}\n",
      "{\n",
      "  \"conjugation\": [\n",
      "    \"Je vais aller\",\n",
      "    \"Tu vas aller\",\n",
      "    \"Il/Elle/On va aller\",\n",
      "    \"Nous allons aller\",\n",
      "    \"Vous allez aller\",\n",
      "    \"Ils/Elles vont aller\"\n",
      "  ],\n",
      "  \"tense\": \"FUTUR_PROCHE\"\n",
      "}\n"
     ]
    }
   ],
   "source": [
    "verb = \"go\"\n",
    "tenses = [Tense.PRESENT, Tense.PASSE_COMPOSE, Tense.IMPARFAIT, Tense.FUTUR_PROCHE]\n",
    "\n",
    "response = model.get_word_details(verb)\n",
    "print(response.text)\n",
    "\n",
    "for tense in tenses:\n",
    "    response = model.get_conjugation(verb, tense)\n",
    "    print(response.text)"
   ]
  },
  {
   "cell_type": "markdown",
   "id": "e57f3954-b3bd-435f-b9f3-bfdc7850684e",
   "metadata": {
    "editable": true,
    "slideshow": {
     "slide_type": ""
    },
    "tags": []
   },
   "source": [
    "### Noun details"
   ]
  },
  {
   "cell_type": "code",
   "execution_count": 7,
   "id": "a20d0f74-cae2-460b-b753-caa76e27f4c1",
   "metadata": {},
   "outputs": [
    {
     "name": "stdout",
     "output_type": "stream",
     "text": [
      "{\n",
      "\"gender\": \"female\",\n",
      "\"transcription\": \"biːʁ\",\n",
      "\"type\": \"noun\",\n",
      "\"word\": \"bière\"\n",
      "}\n",
      "{\n",
      "\"gender\": \"male\",\n",
      "\"transcription\": \" /ʃjɛ̃/\",\n",
      "\"type\": \"noun\",\n",
      "\"word\": \"chien\"\n",
      "}\n"
     ]
    }
   ],
   "source": [
    "noun = \"beer\"\n",
    "response = model.get_word_details(noun)\n",
    "print(response.text)\n",
    "\n",
    "noun = \"dog\"\n",
    "response = model.get_word_details(noun)\n",
    "print(response.text)"
   ]
  },
  {
   "cell_type": "markdown",
   "id": "5c800f5f-744e-4d7a-9e0b-f20958e26f8e",
   "metadata": {},
   "source": [
    "### Number details"
   ]
  },
  {
   "cell_type": "code",
   "execution_count": 8,
   "id": "b5b4f06e-da88-4f88-9e29-84819027c5b6",
   "metadata": {},
   "outputs": [
    {
     "name": "stdout",
     "output_type": "stream",
     "text": [
      "{\n",
      "  \"gender\": \"n/a\",\n",
      "  \"transcription\": \"katʁə-vɛ̃t duz\",\n",
      "  \"type\": \"number\",\n",
      "  \"word\": \"quatre-vingt-douze\"\n",
      "}\n"
     ]
    }
   ],
   "source": [
    "number = \"92\"\n",
    "\n",
    "response = model.get_word_details(number)\n",
    "print(response.text)"
   ]
  }
 ],
 "metadata": {
  "kernelspec": {
   "display_name": "Python 3 (ipykernel)",
   "language": "python",
   "name": "python3"
  },
  "language_info": {
   "codemirror_mode": {
    "name": "ipython",
    "version": 3
   },
   "file_extension": ".py",
   "mimetype": "text/x-python",
   "name": "python",
   "nbconvert_exporter": "python",
   "pygments_lexer": "ipython3",
   "version": "3.12.3"
  }
 },
 "nbformat": 4,
 "nbformat_minor": 5
}
