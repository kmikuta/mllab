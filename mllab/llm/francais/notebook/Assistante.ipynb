{
 "cells": [
  {
   "cell_type": "code",
   "execution_count": 6,
   "id": "c5e56433-fcfb-4d34-8246-18b20443c995",
   "metadata": {},
   "outputs": [
    {
     "name": "stdout",
     "output_type": "stream",
     "text": [
      "bière [bjɛːr], noun, feminine\n",
      "\n"
     ]
    }
   ],
   "source": [
    "from mllab.llm.francais.model import Assistante\n",
    "from mllab.llm.francais.model import Tense\n",
    "\n",
    "model = Assistante()\n",
    "word = \"beer\"\n",
    "\n",
    "response = model.get_word_details(word)\n",
    "print(response.text)\n",
    "\n",
    "response = model.get_conjugation(word)\n",
    "print(response.text)\n",
    "\n",
    "response = model.get_conjugation(word, Tense.PASSE_COMPOSE)\n",
    "print(response.text)\n",
    "\n",
    "response = model.get_conjugation(word, Tense.IMPARFAIT)\n",
    "print(response.text)\n",
    "\n",
    "response = model.get_conjugation(word, Tense.FUTUR_PROCHE)\n",
    "print(response.text)"
   ]
  },
  {
   "cell_type": "code",
   "execution_count": 2,
   "id": "b5b4f06e-da88-4f88-9e29-84819027c5b6",
   "metadata": {},
   "outputs": [
    {
     "name": "stdout",
     "output_type": "stream",
     "text": [
      "quatre-vingt-douze [katʁə.vɛ̃.duz], number.  quatre-vingt-douzième [katʁə.vɛ̃.du.zjɛm]\n",
      "\n"
     ]
    }
   ],
   "source": [
    "word = \"ninety-two\"\n",
    "response = model.get_word_details(word)\n",
    "print(response.text)"
   ]
  }
 ],
 "metadata": {
  "kernelspec": {
   "display_name": "Python 3 (ipykernel)",
   "language": "python",
   "name": "python3"
  },
  "language_info": {
   "codemirror_mode": {
    "name": "ipython",
    "version": 3
   },
   "file_extension": ".py",
   "mimetype": "text/x-python",
   "name": "python",
   "nbconvert_exporter": "python",
   "pygments_lexer": "ipython3",
   "version": "3.12.3"
  }
 },
 "nbformat": 4,
 "nbformat_minor": 5
}
