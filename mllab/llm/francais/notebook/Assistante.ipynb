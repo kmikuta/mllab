{
 "cells": [
  {
   "cell_type": "code",
   "execution_count": 1,
   "id": "c5e56433-fcfb-4d34-8246-18b20443c995",
   "metadata": {},
   "outputs": [
    {
     "name": "stdout",
     "output_type": "stream",
     "text": [
      "aller [a.le], verb\n",
      "\n",
      "* je vais\n",
      "* tu vas\n",
      "* il/elle/on va\n",
      "* nous allons\n",
      "* vous allez\n",
      "* ils/elles vont\n",
      "\n",
      "\n",
      "* je suis allé(e)\n",
      "* tu es allé(e)\n",
      "* il/elle/on est allé(e)\n",
      "* nous sommes allés(es)\n",
      "* vous êtes allés(es)\n",
      "* ils/elles sont allés(es)\n",
      "\n",
      "* j'allais\n",
      "* tu allais\n",
      "* il/elle/on allait\n",
      "* nous allions\n",
      "* vous alliez\n",
      "* ils/elles allaient\n",
      "\n",
      "\n",
      "* je vais aller\n",
      "* tu vas aller\n",
      "* il/elle/on va aller\n",
      "* nous allons aller\n",
      "* vous allez aller\n",
      "* ils/elles vont aller\n",
      "\n"
     ]
    }
   ],
   "source": [
    "from mllab.llm.francais.model import Assistante\n",
    "from mllab.llm.francais.model import Tense\n",
    "\n",
    "model = Assistante()\n",
    "word = \"go\"\n",
    "\n",
    "response = model.get_word_details(word)\n",
    "print(response.text)\n",
    "\n",
    "response = model.get_conjugation(word)\n",
    "print(response.text)\n",
    "\n",
    "response = model.get_conjugation(word, Tense.PASSE_COMPOSE)\n",
    "print(response.text)\n",
    "\n",
    "response = model.get_conjugation(word, Tense.IMPARFAIT)\n",
    "print(response.text)\n",
    "\n",
    "response = model.get_conjugation(word, Tense.FUTUR_PROCHE)\n",
    "print(response.text)"
   ]
  },
  {
   "cell_type": "code",
   "execution_count": 2,
   "id": "b5b4f06e-da88-4f88-9e29-84819027c5b6",
   "metadata": {},
   "outputs": [
    {
     "name": "stdout",
     "output_type": "stream",
     "text": [
      "quatre-vingt-douze [katʁə.vɛ̃.duz], number.  quatre-vingt-douzième [katʁə.vɛ̃.du.zjɛm]\n",
      "\n"
     ]
    }
   ],
   "source": [
    "word = \"ninety-two\"\n",
    "response = model.get_word_details(word)\n",
    "print(response.text)"
   ]
  },
  {
   "cell_type": "code",
   "execution_count": null,
   "id": "525482df-81df-4305-92df-192b59dafb7f",
   "metadata": {},
   "outputs": [],
   "source": []
  }
 ],
 "metadata": {
  "kernelspec": {
   "display_name": "Python 3 (ipykernel)",
   "language": "python",
   "name": "python3"
  },
  "language_info": {
   "codemirror_mode": {
    "name": "ipython",
    "version": 3
   },
   "file_extension": ".py",
   "mimetype": "text/x-python",
   "name": "python",
   "nbconvert_exporter": "python",
   "pygments_lexer": "ipython3",
   "version": "3.12.3"
  }
 },
 "nbformat": 4,
 "nbformat_minor": 5
}
