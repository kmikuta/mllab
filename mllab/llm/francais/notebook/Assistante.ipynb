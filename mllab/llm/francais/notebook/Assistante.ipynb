{
 "cells": [
  {
   "cell_type": "markdown",
   "id": "62482dee-42a3-4dae-a363-1dc0472f16a5",
   "metadata": {},
   "source": [
    "# Assistante LLM model notebook"
   ]
  },
  {
   "cell_type": "markdown",
   "id": "a4ae6cf8-7928-4c43-a16f-6fc7c7cb61d7",
   "metadata": {},
   "source": [
    "### Import and istantiate model"
   ]
  },
  {
   "cell_type": "code",
   "execution_count": 1,
   "id": "453deb2d-f536-4186-b100-e10a1b5149c5",
   "metadata": {
    "editable": true,
    "slideshow": {
     "slide_type": ""
    },
    "tags": []
   },
   "outputs": [],
   "source": [
    "from mllab.llm.francais.model import Assistante\n",
    "from mllab.llm.francais.model import Tense\n",
    "\n",
    "model = Assistante()"
   ]
  },
  {
   "cell_type": "markdown",
   "id": "77859ef1-12bf-4c1b-a09b-4c8acd63d0e2",
   "metadata": {},
   "source": [
    "### Verb details and conjugation"
   ]
  },
  {
   "cell_type": "code",
   "execution_count": 2,
   "id": "c5e56433-fcfb-4d34-8246-18b20443c995",
   "metadata": {
    "editable": true,
    "slideshow": {
     "slide_type": ""
    },
    "tags": []
   },
   "outputs": [
    {
     "name": "stdout",
     "output_type": "stream",
     "text": [
      "word='aller' type='verb' gender='n/a' transcription='/ale/'\n",
      "tense='Présent' conjugation=['Je vais', 'Tu vas', 'Il/Elle/On va', 'Nous allons', 'Vous allez', 'Ils/Elles vont']\n",
      "\n",
      "tense='PASSÉ COMPOSÉ' conjugation=['Je suis allé(e)', 'Tu es allé(e)', 'Il est allé', 'Elle est allée', 'Nous sommes allé(e)s', 'Vous êtes allé(e)(s)', 'Ils sont allés', 'Elles sont allées']\n",
      "\n",
      "tense='IMPARFAIT' conjugation=[\"J'allais\", 'Tu allais', 'Il/Elle/On allait', 'Nous allions', 'Vous alliez', 'Ils/Elles allaient']\n",
      "\n",
      "tense='FUTUR_PROCHE' conjugation=['Je vais aller', 'Tu vas aller', 'Il/Elle/On va aller', 'Nous allons aller', 'Vous allez aller', 'Ils/Elles vont aller']\n",
      "\n"
     ]
    }
   ],
   "source": [
    "verb = \"go\"\n",
    "tenses = [Tense.PRESENT, Tense.PASSE_COMPOSE, Tense.IMPARFAIT, Tense.FUTUR_PROCHE]\n",
    "\n",
    "response = model.get_word_details(verb)\n",
    "print(f\"{response}\\n\")\n",
    "\n",
    "for tense in tenses:\n",
    "    response = model.get_conjugation(verb, tense)\n",
    "    print(f\"{response}\\n\")"
   ]
  },
  {
   "cell_type": "markdown",
   "id": "e57f3954-b3bd-435f-b9f3-bfdc7850684e",
   "metadata": {
    "editable": true,
    "slideshow": {
     "slide_type": ""
    },
    "tags": []
   },
   "source": [
    "### Noun details"
   ]
  },
  {
   "cell_type": "code",
   "execution_count": 3,
   "id": "a20d0f74-cae2-460b-b753-caa76e27f4c1",
   "metadata": {},
   "outputs": [
    {
     "name": "stdout",
     "output_type": "stream",
     "text": [
      "word='bière' type='noun' gender='female' transcription='biːʁ'\n",
      "word='chien' type='noun' gender='male' transcription='/ʃjɛ̃/'\n"
     ]
    }
   ],
   "source": [
    "noun = \"beer\"\n",
    "response = model.get_word_details(noun)\n",
    "print(response)\n",
    "\n",
    "noun = \"dog\"\n",
    "response = model.get_word_details(noun)\n",
    "print(response)"
   ]
  },
  {
   "cell_type": "markdown",
   "id": "5c800f5f-744e-4d7a-9e0b-f20958e26f8e",
   "metadata": {},
   "source": [
    "### Number details"
   ]
  },
  {
   "cell_type": "code",
   "execution_count": 4,
   "id": "b5b4f06e-da88-4f88-9e29-84819027c5b6",
   "metadata": {},
   "outputs": [
    {
     "name": "stdout",
     "output_type": "stream",
     "text": [
      "word='quatre-vingt-douze' type='number' gender='n/a' transcription='/katʁə.vɛ̃.duz/'\n"
     ]
    }
   ],
   "source": [
    "number = \"92\"\n",
    "\n",
    "response = model.get_word_details(number)\n",
    "print(response)"
   ]
  }
 ],
 "metadata": {
  "kernelspec": {
   "display_name": "Python 3 (ipykernel)",
   "language": "python",
   "name": "python3"
  },
  "language_info": {
   "codemirror_mode": {
    "name": "ipython",
    "version": 3
   },
   "file_extension": ".py",
   "mimetype": "text/x-python",
   "name": "python",
   "nbconvert_exporter": "python",
   "pygments_lexer": "ipython3",
   "version": "3.12.3"
  }
 },
 "nbformat": 4,
 "nbformat_minor": 5
}
