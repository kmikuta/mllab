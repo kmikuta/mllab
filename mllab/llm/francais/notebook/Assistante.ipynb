{
 "cells": [
  {
   "cell_type": "code",
   "execution_count": 1,
   "id": "c5e56433-fcfb-4d34-8246-18b20443c995",
   "metadata": {},
   "outputs": [
    {
     "name": "stdout",
     "output_type": "stream",
     "text": [
      "*   J’ai\n",
      "*   Tu as\n",
      "*   Il/Elle/On a\n",
      "*   Nous avons\n",
      "*   Vous avez\n",
      "*   Ils/Elles ont\n",
      "\n",
      "*   J’ai eu\n",
      "*   Tu as eu\n",
      "*   Il/Elle/On a eu\n",
      "*   Nous avons eu\n",
      "*   Vous avez eu\n",
      "*   Ils/Elles ont eu\n",
      "\n",
      "*   Que j'aie\n",
      "*   Que tu aies\n",
      "*   Qu'il/elle/on ait\n",
      "*   Que nous ayons\n",
      "*   Que vous ayez\n",
      "*   Qu'ils/elles aient\n",
      "\n"
     ]
    }
   ],
   "source": [
    "from mllab.llm.francais.model import Assistante\n",
    "\n",
    "model = Assistante()\n",
    "\n",
    "response = model.send_message(\"Provide me with the verb have and show the usage with all the pronouns. Use list format.\")\n",
    "print(response.text)\n",
    "\n",
    "response = model.send_message(\"Now provide the same verb but in passe-compose\")\n",
    "print(response.text)\n",
    "\n",
    "response = model.send_message(\"Now provide the same verb but in subjunctive\")\n",
    "print(response.text)"
   ]
  },
  {
   "cell_type": "code",
   "execution_count": null,
   "id": "525482df-81df-4305-92df-192b59dafb7f",
   "metadata": {},
   "outputs": [],
   "source": []
  }
 ],
 "metadata": {
  "kernelspec": {
   "display_name": "Python 3 (ipykernel)",
   "language": "python",
   "name": "python3"
  },
  "language_info": {
   "codemirror_mode": {
    "name": "ipython",
    "version": 3
   },
   "file_extension": ".py",
   "mimetype": "text/x-python",
   "name": "python",
   "nbconvert_exporter": "python",
   "pygments_lexer": "ipython3",
   "version": "3.12.3"
  }
 },
 "nbformat": 4,
 "nbformat_minor": 5
}
